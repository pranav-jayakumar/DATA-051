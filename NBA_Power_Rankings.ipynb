{
 "cells": [
  {
   "cell_type": "markdown",
   "metadata": {
    "id": "wOrg1e3rU7Og"
   },
   "source": [
    "### NBA Power Rankings Exercise"
   ]
  },
  {
   "cell_type": "markdown",
   "metadata": {
    "id": "o8vptghjkf0t"
   },
   "source": [
    "**About:**\n",
    "\n",
    "\n",
    "The data set used for this exercise contains **NBA’s Power Rankings** for weeks 2 through week 25 for the 2022-2023 NBA Season. \n",
    "\n",
    "* There are 30 teams in the NBA (in the 2022-2023 season).\n",
    "\n",
    "The \"Power Ranking\" is the order of the team's rank in the league that week. Thus, a 1 means 1st place (top team that week). 2 means 2nd place. 30 means last place. Each week, the the ranking can change as teams' records get better or worse.\n",
    "\n",
    "* **Each row** represents a different team, and \n",
    "\n",
    "* **each column** represents a different week. \n",
    "\n",
    "\n",
    "Here is a list of the team names and their corresponding row index in the data."
   ]
  },
  {
   "cell_type": "code",
   "execution_count": 2,
   "metadata": {},
   "outputs": [],
   "source": [
    "names = ['Atlanta Hawks','Boston Celtics','Brooklyn Nets','Charlotte Hornets',\n",
    "        'Chicago Bulls','Cleveland Cavaliers','Dallas Maverics','Denver Nuggets',\n",
    "        'Detroit Pistons','Golden State Warriors','Houston Rockets','Indana Pacers',\n",
    "        'LA Clippers', 'LA Lakers','Memphis Grizzlies','Miami Heat','Milwaulkee Bucks',\n",
    "        'MN Timberwolves','New Orleans Pelicans','NY Knicks','OK City Thunder','Orlando Magic',\n",
    "        'Philadelphia 76ers','Phoenix Suns','Protland Trailblazers','Sacramento Kings',\n",
    "        'San Antonio Spurs','Toronto Raptors','Utah Jazz','Washington Wizards']"
   ]
  },
  {
   "cell_type": "code",
   "execution_count": 4,
   "metadata": {},
   "outputs": [
    {
     "name": "stdout",
     "output_type": "stream",
     "text": [
      "Team  0 - Atlanta Hawks\n",
      "Team  1 - Boston Celtics\n",
      "Team  2 - Brooklyn Nets\n",
      "Team  3 - Charlotte Hornets\n",
      "Team  4 - Chicago Bulls\n",
      "Team  5 - Cleveland Cavaliers\n",
      "Team  6 - Dallas Maverics\n",
      "Team  7 - Denver Nuggets\n",
      "Team  8 - Detroit Pistons\n",
      "Team  9 - Golden State Warriors\n",
      "Team  10 - Houston Rockets\n",
      "Team  11 - Indana Pacers\n",
      "Team  12 - LA Clippers\n",
      "Team  13 - LA Lakers\n",
      "Team  14 - Memphis Grizzlies\n",
      "Team  15 - Miami Heat\n",
      "Team  16 - Milwaulkee Bucks\n",
      "Team  17 - MN Timberwolves\n",
      "Team  18 - New Orleans Pelicans\n",
      "Team  19 - NY Knicks\n",
      "Team  20 - OK City Thunder\n",
      "Team  21 - Orlando Magic\n",
      "Team  22 - Philadelphia 76ers\n",
      "Team  23 - Phoenix Suns\n",
      "Team  24 - Protland Trailblazers\n",
      "Team  25 - Sacramento Kings\n",
      "Team  26 - San Antonio Spurs\n",
      "Team  27 - Toronto Raptors\n",
      "Team  28 - Utah Jazz\n",
      "Team  29 - Washington Wizards\n"
     ]
    }
   ],
   "source": [
    "for i in range(len(names)):\n",
    "    print(\"Team \", i, \"-\", names[i])"
   ]
  },
  {
   "cell_type": "markdown",
   "metadata": {
    "id": "16DhB3rgjte4"
   },
   "source": [
    "**Problem 1: Import matplotlib.pyplot and numpy** (as plt and np)"
   ]
  },
  {
   "cell_type": "code",
   "execution_count": 3,
   "metadata": {
    "id": "zypMUHgIxdFN"
   },
   "outputs": [],
   "source": [
    "import matplotlib.pyplot as plt\n",
    "import numpy as np"
   ]
  },
  {
   "cell_type": "markdown",
   "metadata": {
    "id": "jFBhLfudkFFz"
   },
   "source": [
    "**Problem 2: Use the loadtxt function from the numpy library to load the data.**"
   ]
  },
  {
   "cell_type": "code",
   "execution_count": 5,
   "metadata": {
    "id": "qQOP3EOpxtKn"
   },
   "outputs": [],
   "source": [
    "np.loadtxt()"
   ]
  },
  {
   "cell_type": "markdown",
   "metadata": {
    "id": "J0eYiUUykkiX"
   },
   "source": [
    "**Problem 3: Use .shape command to verify that the data set contains data for 30 different teams across 24 weeks.**"
   ]
  },
  {
   "cell_type": "code",
   "execution_count": 6,
   "metadata": {
    "id": "o51mo72FxsD-"
   },
   "outputs": [],
   "source": [
    "# Input your answer in this cell:"
   ]
  },
  {
   "cell_type": "markdown",
   "metadata": {
    "id": "MI0KNudgpKzW"
   },
   "source": [
    "**Problem 4: Choose a team from the list above and print their rankings across all 24 weeks.**\n",
    "\n",
    "Add a comment to your code cell stating the name of the team you chose."
   ]
  },
  {
   "cell_type": "code",
   "execution_count": 7,
   "metadata": {
    "id": "2NqtC4AMxkzb"
   },
   "outputs": [],
   "source": [
    "# Input your answer in this cell:"
   ]
  },
  {
   "cell_type": "markdown",
   "metadata": {
    "id": "NdQH8t8vq06x"
   },
   "source": [
    "**Problem 5: What was the final ranking of the team that you chose.**"
   ]
  },
  {
   "cell_type": "code",
   "execution_count": 11,
   "metadata": {
    "id": "_RMaIQ9Axws9"
   },
   "outputs": [],
   "source": [
    "# Input your answer in this cell:"
   ]
  },
  {
   "cell_type": "markdown",
   "metadata": {
    "id": "52Fg16AOrkiX"
   },
   "source": [
    "**Problem 6: Calculate the Mean, Standard Deviation, Min, and Max rankings for the team you selected.**"
   ]
  },
  {
   "cell_type": "code",
   "execution_count": 12,
   "metadata": {
    "id": "rA2N7Pkgxxdk"
   },
   "outputs": [],
   "source": [
    "# Input your answer in this cell:"
   ]
  },
  {
   "cell_type": "markdown",
   "metadata": {
    "id": "H1_zsQTRtNHI"
   },
   "source": [
    "**Problem 7: Print the last column (week 25) of the data set.**"
   ]
  },
  {
   "cell_type": "code",
   "execution_count": 8,
   "metadata": {
    "id": "OfWJig2dxzS0"
   },
   "outputs": [],
   "source": [
    "# Input your answer in this cell:"
   ]
  },
  {
   "cell_type": "markdown",
   "metadata": {
    "id": "rOdZTjQmscvE"
   },
   "source": [
    "**Porblem 8: Calculate the average rankings for each of the 30 teams.**"
   ]
  },
  {
   "cell_type": "code",
   "execution_count": 9,
   "metadata": {
    "id": "MoQTbX6Cx3wC"
   },
   "outputs": [],
   "source": [
    "# Input your answer in this cell:"
   ]
  },
  {
   "cell_type": "markdown",
   "metadata": {
    "id": "HmqNZhUCvkur"
   },
   "source": [
    "**Problem 9: Construct a line plot that showcases your team's ranking for each week.**"
   ]
  },
  {
   "cell_type": "code",
   "execution_count": 10,
   "metadata": {
    "id": "wEn96OAPx5IB"
   },
   "outputs": [],
   "source": [
    "# Input your answer in this cell:"
   ]
  }
 ],
 "metadata": {
  "colab": {
   "provenance": []
  },
  "kernelspec": {
   "display_name": "Python 3 (ipykernel)",
   "language": "python",
   "name": "python3"
  },
  "language_info": {
   "codemirror_mode": {
    "name": "ipython",
    "version": 3
   },
   "file_extension": ".py",
   "mimetype": "text/x-python",
   "name": "python",
   "nbconvert_exporter": "python",
   "pygments_lexer": "ipython3",
   "version": "3.11.1"
  }
 },
 "nbformat": 4,
 "nbformat_minor": 4
}
